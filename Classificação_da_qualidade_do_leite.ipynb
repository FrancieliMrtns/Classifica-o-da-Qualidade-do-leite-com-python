{
  "nbformat": 4,
  "nbformat_minor": 0,
  "metadata": {
    "colab": {
      "provenance": [],
      "include_colab_link": true
    },
    "kernelspec": {
      "name": "python3",
      "display_name": "Python 3"
    },
    "language_info": {
      "name": "python"
    }
  },
  "cells": [
    {
      "cell_type": "markdown",
      "metadata": {
        "id": "view-in-github",
        "colab_type": "text"
      },
      "source": [
        "<a href=\"https://colab.research.google.com/github/FrancieliMrtns/Classifica-o-da-Qualidade-do-leite-com-python/blob/main/Classifica%C3%A7%C3%A3o_da_qualidade_do_leite.ipynb\" target=\"_parent\"><img src=\"https://colab.research.google.com/assets/colab-badge.svg\" alt=\"Open In Colab\"/></a>"
      ]
    },
    {
      "cell_type": "code",
      "execution_count": null,
      "metadata": {
        "id": "qadOexyQMyuo"
      },
      "outputs": [],
      "source": [
        "#Bibliotecas\n",
        "import pandas as pd\n",
        "from sklearn.model_selection import train_test_split\n",
        "from sklearn.preprocessing import LabelEncoder, StandardScaler\n",
        "from sklearn.naive_bayes import GaussianNB\n",
        "from sklearn.ensemble import RandomForestClassifier\n",
        "from sklearn.metrics import accuracy_score"
      ]
    },
    {
      "cell_type": "code",
      "source": [
        "#Carregar Dados\n",
        "base = 'milknew.csv'\n",
        "data = pd.read_csv(base)"
      ],
      "metadata": {
        "id": "HDm52VUGOiPS"
      },
      "execution_count": null,
      "outputs": []
    },
    {
      "cell_type": "code",
      "source": [
        "#Normalização dos Dados\n",
        "label_encoder = LabelEncoder()\n",
        "data['Grade'] = label_encoder.fit_transform(data['Grade'])"
      ],
      "metadata": {
        "id": "pej29gawOk1O"
      },
      "execution_count": null,
      "outputs": []
    },
    {
      "cell_type": "code",
      "source": [
        "#Separar Variaveis Dependentes e Independentes\n",
        "X = data.drop('Grade', axis=1)\n",
        "y = data['Grade']"
      ],
      "metadata": {
        "id": "qnmTGcuaOm-x"
      },
      "execution_count": null,
      "outputs": []
    },
    {
      "cell_type": "code",
      "source": [
        "#Dados de treino e teste\n",
        "X_train, X_test, y_train, y_test = train_test_split(X, y, test_size=0.2, random_state=42)"
      ],
      "metadata": {
        "id": "gJ_bZLiOOorZ"
      },
      "execution_count": null,
      "outputs": []
    },
    {
      "cell_type": "code",
      "source": [
        "#Normalizar dados para ter o mesmo peso e desvio padrão\n",
        "scaler = StandardScaler()\n",
        "X_train_scaled = scaler.fit_transform(X_train)\n",
        "X_test_scaled = scaler.transform(X_test)"
      ],
      "metadata": {
        "id": "q6rOs4HQOri_"
      },
      "execution_count": null,
      "outputs": []
    },
    {
      "cell_type": "code",
      "source": [
        "#Naive Bayes\n",
        "nb_model = GaussianNB()\n",
        "nb_model.fit(X_train_scaled, y_train)\n",
        "y_pred_nb = nb_model.predict(X_test_scaled)\n",
        "accuracy_nb = accuracy_score(y_test, y_pred_nb)"
      ],
      "metadata": {
        "id": "MQ8hbdtcOtnq"
      },
      "execution_count": null,
      "outputs": []
    },
    {
      "cell_type": "code",
      "source": [
        "#Random Forest\n",
        "rf_model = RandomForestClassifier(random_state=42)\n",
        "rf_model.fit(X_train_scaled, y_train)\n",
        "y_pred_rf = rf_model.predict(X_test_scaled)\n",
        "accuracy_rf = accuracy_score(y_test, y_pred_rf)"
      ],
      "metadata": {
        "id": "-U6aOpQxOxjh"
      },
      "execution_count": null,
      "outputs": []
    },
    {
      "cell_type": "code",
      "source": [
        "#Exibir Resultados\n",
        "print(f\"Acurácia Naive Bayes: {accuracy_nb * 100:.2f}%\")\n",
        "print(f\"Acurácia Random Forest: {accuracy_rf * 100:.2f}%\")\n"
      ],
      "metadata": {
        "colab": {
          "base_uri": "https://localhost:8080/"
        },
        "id": "RHxDjgnOO0Nj",
        "outputId": "b38adbbc-68e7-4b93-a672-96965fd6da96"
      },
      "execution_count": null,
      "outputs": [
        {
          "output_type": "stream",
          "name": "stdout",
          "text": [
            "Acurácia Naive Bayes: 94.34%\n",
            "Acurácia Random Forest: 99.53%\n"
          ]
        }
      ]
    },
    {
      "cell_type": "code",
      "source": [
        "#Conclusão\n",
        "\"\"\"\n",
        "Melhor desempenho: Random forest.\n",
        "Motivo: O Random forest lidou melhor com a complecidade de dados e capturou bem as iterações entre as variáveis independentes, enquanto Naive Bayes mesmo não sendo ruim ainda\n",
        "teve resultado inferior, provavelmente por conta da simplificação das realções entre os parâmetros do leite, que foi realizado na supisição de independência condicional.\n",
        "\"\"\""
      ],
      "metadata": {
        "colab": {
          "base_uri": "https://localhost:8080/",
          "height": 53
        },
        "id": "9mJ82F6xQlUl",
        "outputId": "ba69d52a-d930-4f62-a404-ac8131dc2058"
      },
      "execution_count": null,
      "outputs": [
        {
          "output_type": "execute_result",
          "data": {
            "text/plain": [
              "'\\nMelhor desempenho: Random forest.\\nMotivo: O Random forest lidou melhor com a complecidade de dados e capturou bem as iterações entre as variáveis independentes, enquanto Naive Bayes mesmo não sendo ruim ainda\\nteve resultado inferior, provavelmente por conta da simplificação das realções entre os parâmetros do leite, que foi realizado na supisição de independência condicional.\\n'"
            ],
            "application/vnd.google.colaboratory.intrinsic+json": {
              "type": "string"
            }
          },
          "metadata": {},
          "execution_count": 1
        }
      ]
    }
  ]
}